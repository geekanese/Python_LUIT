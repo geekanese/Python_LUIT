{
 "cells": [
  {
   "cell_type": "code",
   "execution_count": null,
   "id": "36a078e4-4767-4031-ac36-4b2874c7fb5e",
   "metadata": {
    "tags": []
   },
   "outputs": [],
   "source": [
    "# How to create Multiple EC2 instances"
   ]
  },
  {
   "cell_type": "code",
   "execution_count": null,
   "id": "81c1d646-e058-4b48-b53f-b6f18b490a44",
   "metadata": {},
   "outputs": [],
   "source": [
    "# Project author - Christopher Utley"
   ]
  },
  {
   "cell_type": "code",
   "execution_count": null,
   "id": "4e562f55-9e0b-4009-9c98-8e327e0ebabb",
   "metadata": {},
   "outputs": [],
   "source": [
    "# Import boto3 library"
   ]
  },
  {
   "cell_type": "code",
   "execution_count": 1,
   "id": "4418d29a-6f6b-42cf-b7bf-1353a1e2403e",
   "metadata": {
    "tags": []
   },
   "outputs": [],
   "source": [
    "import boto3"
   ]
  },
  {
   "cell_type": "code",
   "execution_count": 7,
   "id": "6d275537-e055-4580-95aa-54918efb1e71",
   "metadata": {},
   "outputs": [],
   "source": [
    "#create an EC2 resource\n",
    "ec2_resource=boto3.resource(\"ec2\")"
   ]
  },
  {
   "cell_type": "code",
   "execution_count": null,
   "id": "202c810d-0c72-463f-8102-6d85ce90ada5",
   "metadata": {
    "tags": []
   },
   "outputs": [],
   "source": [
    "# Get instance requirements >> output to get args\n",
    "ec2_resource.create_instances??"
   ]
  }
 ],
 "metadata": {
  "kernelspec": {
   "display_name": "Python 3 (ipykernel)",
   "language": "python",
   "name": "python3"
  },
  "language_info": {
   "codemirror_mode": {
    "name": "ipython",
    "version": 3
   },
   "file_extension": ".py",
   "mimetype": "text/x-python",
   "name": "python",
   "nbconvert_exporter": "python",
   "pygments_lexer": "ipython3",
   "version": "3.7.10"
  }
 },
 "nbformat": 4,
 "nbformat_minor": 5
}
