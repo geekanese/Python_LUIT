{
 "cells": [
  {
   "cell_type": "code",
   "execution_count": null,
   "id": "4d50a31b-f0d7-44f5-b913-bf55cc07d165",
   "metadata": {
    "tags": []
   },
   "outputs": [],
   "source": [
    "# How to get all EC2 instance ID's"
   ]
  },
  {
   "cell_type": "code",
   "execution_count": null,
   "id": "bd647645-8a88-4112-bf10-46c4685f6995",
   "metadata": {},
   "outputs": [],
   "source": [
    "# Project author - Christopher Utley"
   ]
  },
  {
   "cell_type": "code",
   "execution_count": null,
   "id": "14d2734a-66c2-4587-b5d3-4f16f0f6ae00",
   "metadata": {},
   "outputs": [],
   "source": [
    "# Import boto3 library"
   ]
  },
  {
   "cell_type": "code",
   "execution_count": 12,
   "id": "be1356d3-ae0c-4113-94c9-7b8274fd139a",
   "metadata": {
    "tags": []
   },
   "outputs": [],
   "source": [
    "#import boto3"
   ]
  },
  {
   "cell_type": "code",
   "execution_count": 13,
   "id": "f09f636c-66cd-49b8-9801-50ff1d18e317",
   "metadata": {},
   "outputs": [],
   "source": [
    "#create an EC2 resource\n",
    "#ec2_resource=boto3.resource(\"ec2\")"
   ]
  },
  {
   "cell_type": "code",
   "execution_count": 14,
   "id": "6cda77fc-a3db-4984-af30-46b2044f524c",
   "metadata": {
    "tags": []
   },
   "outputs": [],
   "source": [
    "# Get instance requirements >> output to get args\n",
    "#ec2_resource.create_instances??"
   ]
  },
  {
   "cell_type": "code",
   "execution_count": 18,
   "id": "0344e43c-46b5-4254-b959-f087290f6627",
   "metadata": {},
   "outputs": [
    {
     "ename": "TypeError",
     "evalue": "'list' object is not callable",
     "output_type": "error",
     "traceback": [
      "\u001b[0;31m---------------------------------------------------------------------------\u001b[0m",
      "\u001b[0;31mTypeError\u001b[0m                                 Traceback (most recent call last)",
      "\u001b[0;32m/tmp/ipykernel_10028/4049896769.py\u001b[0m in \u001b[0;36m<module>\u001b[0;34m\u001b[0m\n\u001b[1;32m      2\u001b[0m \u001b[0mec2_client\u001b[0m\u001b[0;34m=\u001b[0m\u001b[0mboto3\u001b[0m\u001b[0;34m.\u001b[0m\u001b[0mclient\u001b[0m\u001b[0;34m(\u001b[0m\u001b[0;34m\"ec2\"\u001b[0m\u001b[0;34m)\u001b[0m\u001b[0;34m\u001b[0m\u001b[0;34m\u001b[0m\u001b[0m\n\u001b[1;32m      3\u001b[0m \u001b[0mx\u001b[0m\u001b[0;34m=\u001b[0m\u001b[0mec2_client\u001b[0m\u001b[0;34m.\u001b[0m\u001b[0mdescribe_instances\u001b[0m\u001b[0;34m(\u001b[0m\u001b[0;34m)\u001b[0m\u001b[0;34m\u001b[0m\u001b[0;34m\u001b[0m\u001b[0m\n\u001b[0;32m----> 4\u001b[0;31m \u001b[0mdata\u001b[0m\u001b[0;34m=\u001b[0m\u001b[0mx\u001b[0m\u001b[0;34m[\u001b[0m\u001b[0;34m\"Reservations\"\u001b[0m\u001b[0;34m]\u001b[0m\u001b[0;34m(\u001b[0m\u001b[0;34m-\u001b[0m\u001b[0;36m1\u001b[0m\u001b[0;34m)\u001b[0m\u001b[0;34m\u001b[0m\u001b[0;34m\u001b[0m\u001b[0m\n\u001b[0m\u001b[1;32m      5\u001b[0m \u001b[0mdata_instance\u001b[0m\u001b[0;34m=\u001b[0m\u001b[0mdata\u001b[0m\u001b[0;34m[\u001b[0m\u001b[0;34m\"Instances\"\u001b[0m\u001b[0;34m]\u001b[0m\u001b[0;34m\u001b[0m\u001b[0;34m\u001b[0m\u001b[0m\n\u001b[1;32m      6\u001b[0m \u001b[0;32mfor\u001b[0m \u001b[0mi\u001b[0m \u001b[0;32min\u001b[0m \u001b[0mrange\u001b[0m\u001b[0;34m(\u001b[0m\u001b[0mlen\u001b[0m\u001b[0;34m(\u001b[0m\u001b[0mdata_instance\u001b[0m\u001b[0;34m)\u001b[0m\u001b[0;34m)\u001b[0m\u001b[0;34m:\u001b[0m\u001b[0;34m\u001b[0m\u001b[0;34m\u001b[0m\u001b[0m\n",
      "\u001b[0;31mTypeError\u001b[0m: 'list' object is not callable"
     ]
    }
   ],
   "source": [
    "import boto3\n",
    "ec2_client=boto3.client(\"ec2\")\n",
    "x=ec2_client.describe_instances()\n",
    "data=x[\"Reservations\"]()\n",
    "data_instance=data[\"Instances\"]\n",
    "for i in range(len(data_instance)):\n",
    "    print(f\"instance id is {data_instance[i]['InstanceId']}\")"
   ]
  },
  {
   "cell_type": "code",
   "execution_count": null,
   "id": "d84977b7-f250-437f-be9b-8cbb8b261bba",
   "metadata": {},
   "outputs": [],
   "source": []
  },
  {
   "cell_type": "code",
   "execution_count": null,
   "id": "3d47560b-a333-4249-8ecf-cd028321cae6",
   "metadata": {},
   "outputs": [],
   "source": []
  },
  {
   "cell_type": "code",
   "execution_count": null,
   "id": "5362cd33-0385-42e3-82fb-e2a628775e84",
   "metadata": {},
   "outputs": [],
   "source": [
    "   "
   ]
  }
 ],
 "metadata": {
  "kernelspec": {
   "display_name": "Python 3 (ipykernel)",
   "language": "python",
   "name": "python3"
  },
  "language_info": {
   "codemirror_mode": {
    "name": "ipython",
    "version": 3
   },
   "file_extension": ".py",
   "mimetype": "text/x-python",
   "name": "python",
   "nbconvert_exporter": "python",
   "pygments_lexer": "ipython3",
   "version": "3.7.10"
  }
 },
 "nbformat": 4,
 "nbformat_minor": 5
}
