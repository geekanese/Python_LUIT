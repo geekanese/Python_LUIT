{
 "cells": [
  {
   "cell_type": "code",
   "execution_count": null,
   "id": "ecdea58d-7422-4841-b647-23e5c9fc518f",
   "metadata": {},
   "outputs": [],
   "source": [
    "# Tutorial 9"
   ]
  },
  {
   "cell_type": "code",
   "execution_count": null,
   "id": "2a561a14-5cd1-40bd-8eaf-1a33629a1a3a",
   "metadata": {},
   "outputs": [],
   "source": [
    "#How to delete objects from S3"
   ]
  },
  {
   "cell_type": "code",
   "execution_count": 26,
   "id": "5aebff20-4e32-4861-8423-cf52b6a02e53",
   "metadata": {},
   "outputs": [],
   "source": [
    "import boto3"
   ]
  },
  {
   "cell_type": "code",
   "execution_count": 27,
   "id": "6473dff0-a64c-4220-bd01-a8a83de28f5f",
   "metadata": {},
   "outputs": [],
   "source": [
    "s3_resource=boto3.client(\"s3\")"
   ]
  },
  {
   "cell_type": "code",
   "execution_count": 28,
   "id": "70596d18-e749-42de-8317-ca0d28e4bd66",
   "metadata": {},
   "outputs": [
    {
     "data": {
      "text/plain": [
       "{'ResponseMetadata': {'RequestId': 'DRVDQ6H4T3EVTB8F',\n",
       "  'HostId': 'JCc5hy2UOd6rv7oGizZ9/BUInne3nvnD9Gjg6ODpARTLKsJ8waWbdkHx6I4opiHXmeT1CnpAI3Y=',\n",
       "  'HTTPStatusCode': 204,\n",
       "  'HTTPHeaders': {'x-amz-id-2': 'JCc5hy2UOd6rv7oGizZ9/BUInne3nvnD9Gjg6ODpARTLKsJ8waWbdkHx6I4opiHXmeT1CnpAI3Y=',\n",
       "   'x-amz-request-id': 'DRVDQ6H4T3EVTB8F',\n",
       "   'date': 'Thu, 23 Jun 2022 22:22:36 GMT',\n",
       "   'server': 'AmazonS3'},\n",
       "  'RetryAttempts': 0}}"
      ]
     },
     "execution_count": 28,
     "metadata": {},
     "output_type": "execute_result"
    }
   ],
   "source": [
    "# Delete single object\n",
    "s3_resource.delete_object(Bucket='geektest-t1',\n",
    "      Key='sausage4.jpeg')"
   ]
  },
  {
   "cell_type": "code",
   "execution_count": 29,
   "id": "856c5583-461e-4a78-bcdd-f11d7b8a2e66",
   "metadata": {},
   "outputs": [],
   "source": [
    "# Delete multiple objects\n",
    "import os\n",
    "import glob"
   ]
  },
  {
   "cell_type": "code",
   "execution_count": 30,
   "id": "2fa1314e-8ef4-4e88-9200-9dcc11e89bdf",
   "metadata": {},
   "outputs": [],
   "source": [
    "# Find all objects from the bucket\n",
    "objects=s3_resource.list_objects(Bucket=\"geektest-t1\")[\"Contents\"]"
   ]
  },
  {
   "cell_type": "code",
   "execution_count": 31,
   "id": "d21aa2e7-14a8-4511-9972-b826189e9089",
   "metadata": {},
   "outputs": [],
   "source": [
    "#cwd=os.getcwd()"
   ]
  },
  {
   "cell_type": "code",
   "execution_count": 32,
   "id": "5598eabc-a559-4dfa-9522-ec0d8bb3e403",
   "metadata": {},
   "outputs": [],
   "source": [
    "#cwd=cwd+\"/upload/\""
   ]
  },
  {
   "cell_type": "code",
   "execution_count": 33,
   "id": "00476b13-22ac-408b-a115-91df21376268",
   "metadata": {},
   "outputs": [],
   "source": [
    "#files=glob.glob(cwd+\"*.jpeg\")"
   ]
  },
  {
   "cell_type": "code",
   "execution_count": 34,
   "id": "e47dd282-e801-4be8-8ca0-6bdd02d537e3",
   "metadata": {},
   "outputs": [
    {
     "data": {
      "text/plain": [
       "4"
      ]
     },
     "execution_count": 34,
     "metadata": {},
     "output_type": "execute_result"
    }
   ],
   "source": [
    "len(objects)"
   ]
  },
  {
   "cell_type": "code",
   "execution_count": 35,
   "id": "efef462c-aa88-4f1b-b551-64e9c6266629",
   "metadata": {},
   "outputs": [
    {
     "data": {
      "text/plain": [
       "[{'Key': 'sausage1.jpeg',\n",
       "  'LastModified': datetime.datetime(2022, 6, 23, 22, 8, 1, tzinfo=tzlocal()),\n",
       "  'ETag': '\"d074f891e3804b65675e20ebdcf1e924\"',\n",
       "  'Size': 73150,\n",
       "  'StorageClass': 'STANDARD',\n",
       "  'Owner': {'ID': '076c46c154b04c1d441d983106205cf31e45785660be843128998b8ecbc0f69d'}},\n",
       " {'Key': 'sausage2.jpeg',\n",
       "  'LastModified': datetime.datetime(2022, 6, 23, 22, 8, 1, tzinfo=tzlocal()),\n",
       "  'ETag': '\"d074f891e3804b65675e20ebdcf1e924\"',\n",
       "  'Size': 73150,\n",
       "  'StorageClass': 'STANDARD',\n",
       "  'Owner': {'ID': '076c46c154b04c1d441d983106205cf31e45785660be843128998b8ecbc0f69d'}},\n",
       " {'Key': 'sausage3.jpeg',\n",
       "  'LastModified': datetime.datetime(2022, 6, 23, 22, 8, 1, tzinfo=tzlocal()),\n",
       "  'ETag': '\"d074f891e3804b65675e20ebdcf1e924\"',\n",
       "  'Size': 73150,\n",
       "  'StorageClass': 'STANDARD',\n",
       "  'Owner': {'ID': '076c46c154b04c1d441d983106205cf31e45785660be843128998b8ecbc0f69d'}},\n",
       " {'Key': 'uploadtest.jpeg',\n",
       "  'LastModified': datetime.datetime(2022, 6, 23, 22, 7, 58, tzinfo=tzlocal()),\n",
       "  'ETag': '\"d074f891e3804b65675e20ebdcf1e924\"',\n",
       "  'Size': 73150,\n",
       "  'StorageClass': 'STANDARD',\n",
       "  'Owner': {'ID': '076c46c154b04c1d441d983106205cf31e45785660be843128998b8ecbc0f69d'}}]"
      ]
     },
     "execution_count": 35,
     "metadata": {},
     "output_type": "execute_result"
    }
   ],
   "source": [
    "objects"
   ]
  },
  {
   "cell_type": "code",
   "execution_count": 36,
   "id": "fc85d8ec-9238-4c31-ba48-ae7f72d2484d",
   "metadata": {},
   "outputs": [
    {
     "name": "stdout",
     "output_type": "stream",
     "text": [
      "{'ResponseMetadata': {'RequestId': 'DAVRWHY30BSZAAN6', 'HostId': 'oNuudEaiiXvVHFLj2Qs0aamlqYFJ4GAFzofkOj+0kM52T2b99spgebN8Ati0fqeV1D0HMFMSxJA=', 'HTTPStatusCode': 204, 'HTTPHeaders': {'x-amz-id-2': 'oNuudEaiiXvVHFLj2Qs0aamlqYFJ4GAFzofkOj+0kM52T2b99spgebN8Ati0fqeV1D0HMFMSxJA=', 'x-amz-request-id': 'DAVRWHY30BSZAAN6', 'date': 'Thu, 23 Jun 2022 22:23:00 GMT', 'server': 'AmazonS3'}, 'RetryAttempts': 0}}\n",
      "{'ResponseMetadata': {'RequestId': 'DAVXT55FZG6DV4MN', 'HostId': 'JRFayz1N9idQ+EiMcpTyCPk5kaaFmnT1Go+M81mdUVw4erdbfqmRoeK7zYUJZBgN91kdYsw6Xg0=', 'HTTPStatusCode': 204, 'HTTPHeaders': {'x-amz-id-2': 'JRFayz1N9idQ+EiMcpTyCPk5kaaFmnT1Go+M81mdUVw4erdbfqmRoeK7zYUJZBgN91kdYsw6Xg0=', 'x-amz-request-id': 'DAVXT55FZG6DV4MN', 'date': 'Thu, 23 Jun 2022 22:23:00 GMT', 'server': 'AmazonS3'}, 'RetryAttempts': 0}}\n",
      "{'ResponseMetadata': {'RequestId': 'DAVRPF0BPR16KKKK', 'HostId': 'eopJ9fx7nG9ONKgN2aZ5unTS5zKMCRUqKOgX8Av/ryfu5KdUiDhiYSi3BAQ6jl9dmM2lxvcQF9Q=', 'HTTPStatusCode': 204, 'HTTPHeaders': {'x-amz-id-2': 'eopJ9fx7nG9ONKgN2aZ5unTS5zKMCRUqKOgX8Av/ryfu5KdUiDhiYSi3BAQ6jl9dmM2lxvcQF9Q=', 'x-amz-request-id': 'DAVRPF0BPR16KKKK', 'date': 'Thu, 23 Jun 2022 22:23:00 GMT', 'server': 'AmazonS3'}, 'RetryAttempts': 0}}\n",
      "{'ResponseMetadata': {'RequestId': 'DAVPPNJKF662DZFJ', 'HostId': 'OBVSheJyzCqZ7pcCi+OB8l1Eip2OOqebMAKX7snV0BWz6X0Iq3k3zINZi1cRRv0MHMtHDlMwmf4=', 'HTTPStatusCode': 204, 'HTTPHeaders': {'x-amz-id-2': 'OBVSheJyzCqZ7pcCi+OB8l1Eip2OOqebMAKX7snV0BWz6X0Iq3k3zINZi1cRRv0MHMtHDlMwmf4=', 'x-amz-request-id': 'DAVPPNJKF662DZFJ', 'date': 'Thu, 23 Jun 2022 22:23:00 GMT', 'server': 'AmazonS3'}, 'RetryAttempts': 0}}\n"
     ]
    }
   ],
   "source": [
    "# iteration Delete objects in Bucket with response\n",
    "for object in objects:\n",
    "    response=s3_resource.delete_object(Bucket='geektest-t1',\n",
    "      Key=object[\"Key\"])\n",
    "    print(response)"
   ]
  },
  {
   "cell_type": "code",
   "execution_count": 25,
   "id": "3c6ae6ae-eb86-43e4-bcea-572f0b4b4a59",
   "metadata": {},
   "outputs": [],
   "source": [
    "# iteration Delete objects in Bucket\n",
    "for object in objects:\n",
    "      s3_resource.delete_object(Bucket='geektest-t1',\n",
    "      Key=object[\"Key\"])"
   ]
  }
 ],
 "metadata": {
  "kernelspec": {
   "display_name": "Python 3 (ipykernel)",
   "language": "python",
   "name": "python3"
  },
  "language_info": {
   "codemirror_mode": {
    "name": "ipython",
    "version": 3
   },
   "file_extension": ".py",
   "mimetype": "text/x-python",
   "name": "python",
   "nbconvert_exporter": "python",
   "pygments_lexer": "ipython3",
   "version": "3.7.10"
  }
 },
 "nbformat": 4,
 "nbformat_minor": 5
}
