{
 "cells": [
  {
   "cell_type": "code",
   "execution_count": 1,
   "id": "a356c343-925e-4e8b-ba20-3d17d113e0d9",
   "metadata": {},
   "outputs": [],
   "source": [
    "import boto3"
   ]
  },
  {
   "cell_type": "code",
   "execution_count": 2,
   "id": "0336ab5c-7fff-4cc1-b16e-1e5b533e1923",
   "metadata": {},
   "outputs": [
    {
     "data": {
      "text/plain": [
       "\u001b[0;31mSignature:\u001b[0m \u001b[0mboto3\u001b[0m\u001b[0;34m.\u001b[0m\u001b[0mclient\u001b[0m\u001b[0;34m(\u001b[0m\u001b[0;34m*\u001b[0m\u001b[0margs\u001b[0m\u001b[0;34m,\u001b[0m \u001b[0;34m**\u001b[0m\u001b[0mkwargs\u001b[0m\u001b[0;34m)\u001b[0m\u001b[0;34m\u001b[0m\u001b[0;34m\u001b[0m\u001b[0m\n",
       "\u001b[0;31mSource:\u001b[0m   \n",
       "\u001b[0;32mdef\u001b[0m \u001b[0mclient\u001b[0m\u001b[0;34m(\u001b[0m\u001b[0;34m*\u001b[0m\u001b[0margs\u001b[0m\u001b[0;34m,\u001b[0m \u001b[0;34m**\u001b[0m\u001b[0mkwargs\u001b[0m\u001b[0;34m)\u001b[0m\u001b[0;34m:\u001b[0m\u001b[0;34m\u001b[0m\n",
       "\u001b[0;34m\u001b[0m    \u001b[0;34m\"\"\"\u001b[0m\n",
       "\u001b[0;34m    Create a low-level service client by name using the default session.\u001b[0m\n",
       "\u001b[0;34m\u001b[0m\n",
       "\u001b[0;34m    See :py:meth:`boto3.session.Session.client`.\u001b[0m\n",
       "\u001b[0;34m    \"\"\"\u001b[0m\u001b[0;34m\u001b[0m\n",
       "\u001b[0;34m\u001b[0m    \u001b[0;32mreturn\u001b[0m \u001b[0m_get_default_session\u001b[0m\u001b[0;34m(\u001b[0m\u001b[0;34m)\u001b[0m\u001b[0;34m.\u001b[0m\u001b[0mclient\u001b[0m\u001b[0;34m(\u001b[0m\u001b[0;34m*\u001b[0m\u001b[0margs\u001b[0m\u001b[0;34m,\u001b[0m \u001b[0;34m**\u001b[0m\u001b[0mkwargs\u001b[0m\u001b[0;34m)\u001b[0m\u001b[0;34m\u001b[0m\u001b[0;34m\u001b[0m\u001b[0m\n",
       "\u001b[0;31mFile:\u001b[0m      ~/.local/lib/python3.7/site-packages/boto3/__init__.py\n",
       "\u001b[0;31mType:\u001b[0m      function\n"
      ]
     },
     "metadata": {},
     "output_type": "display_data"
    }
   ],
   "source": [
    "s3_resource=boto3.client??"
   ]
  },
  {
   "cell_type": "code",
   "execution_count": 4,
   "id": "dac48934-6c81-4b19-9352-e08043f2530b",
   "metadata": {},
   "outputs": [],
   "source": [
    "s3_resource=boto3.client(\"s3\")"
   ]
  },
  {
   "cell_type": "code",
   "execution_count": 5,
   "id": "8d2cbcae-93ac-4948-8b3f-f98b65951b06",
   "metadata": {},
   "outputs": [
    {
     "data": {
      "text/plain": [
       "[{'Name': 'angular-app-5-5',\n",
       "  'CreationDate': datetime.datetime(2022, 5, 6, 0, 45, 22, tzinfo=tzlocal())},\n",
       " {'Name': 'angular-app-source',\n",
       "  'CreationDate': datetime.datetime(2022, 5, 6, 20, 26, 44, tzinfo=tzlocal())},\n",
       " {'Name': 'angular-app22-deploy',\n",
       "  'CreationDate': datetime.datetime(2022, 5, 6, 20, 57, 17, tzinfo=tzlocal())},\n",
       " {'Name': 'chrisutley.pro',\n",
       "  'CreationDate': datetime.datetime(2020, 6, 26, 4, 5, 32, tzinfo=tzlocal())},\n",
       " {'Name': 'codepipeline-us-east-1-966797841772',\n",
       "  'CreationDate': datetime.datetime(2022, 5, 6, 1, 7, 14, tzinfo=tzlocal())},\n",
       " {'Name': 'ehlo-it.com',\n",
       "  'CreationDate': datetime.datetime(2020, 6, 27, 6, 44, 40, tzinfo=tzlocal())},\n",
       " {'Name': 'geekanese',\n",
       "  'CreationDate': datetime.datetime(2020, 6, 27, 11, 25, 24, tzinfo=tzlocal())},\n",
       " {'Name': 'geekanese.com',\n",
       "  'CreationDate': datetime.datetime(2020, 6, 27, 11, 25, 24, tzinfo=tzlocal())},\n",
       " {'Name': 'geektest-t1',\n",
       "  'CreationDate': datetime.datetime(2022, 6, 23, 15, 58, 25, tzinfo=tzlocal())},\n",
       " {'Name': 'geektest-t2',\n",
       "  'CreationDate': datetime.datetime(2022, 6, 23, 16, 2, 4, tzinfo=tzlocal())},\n",
       " {'Name': 'luit',\n",
       "  'CreationDate': datetime.datetime(2022, 5, 6, 0, 23, 58, tzinfo=tzlocal())},\n",
       " {'Name': 'luit-angular-app-master',\n",
       "  'CreationDate': datetime.datetime(2022, 5, 6, 20, 53, 35, tzinfo=tzlocal())},\n",
       " {'Name': 'www.geekanese.com',\n",
       "  'CreationDate': datetime.datetime(2020, 10, 16, 15, 32, 18, tzinfo=tzlocal())}]"
      ]
     },
     "execution_count": 5,
     "metadata": {},
     "output_type": "execute_result"
    }
   ],
   "source": [
    "s3_resource.list_buckets()[\"Buckets\"][0][\"Name\"]"
   ]
  },
  {
   "cell_type": "code",
   "execution_count": 10,
   "id": "11ca66e6-3619-4f5a-8f90-36a3f288b77e",
   "metadata": {},
   "outputs": [],
   "source": [
    "creation_date=s3_resource.list_buckets()[\"Buckets\"][0][\"CreationDate\"]"
   ]
  },
  {
   "cell_type": "code",
   "execution_count": 11,
   "id": "bc9919ad-7d11-4d1a-bd7d-f66fa5a66d9b",
   "metadata": {},
   "outputs": [
    {
     "data": {
      "text/plain": [
       "'060522_00:45:1651797922'"
      ]
     },
     "execution_count": 11,
     "metadata": {},
     "output_type": "execute_result"
    }
   ],
   "source": [
    "creation_date.strftime(\"%d%m%y_%H:%M:%s\")"
   ]
  },
  {
   "cell_type": "code",
   "execution_count": 12,
   "id": "1d83cd26-c2e1-4162-8c92-0c4b5257fc07",
   "metadata": {},
   "outputs": [
    {
     "name": "stdout",
     "output_type": "stream",
     "text": [
      "angular-app-5-5\n",
      "2022-05-06 00:45:22+00:00\n",
      "angular-app-source\n",
      "2022-05-06 20:26:44+00:00\n",
      "angular-app22-deploy\n",
      "2022-05-06 20:57:17+00:00\n",
      "chrisutley.pro\n",
      "2020-06-26 04:05:32+00:00\n",
      "codepipeline-us-east-1-966797841772\n",
      "2022-05-06 01:07:14+00:00\n",
      "ehlo-it.com\n",
      "2020-06-27 06:44:40+00:00\n",
      "geekanese\n",
      "2020-06-27 11:25:24+00:00\n",
      "geekanese.com\n",
      "2020-06-27 11:25:24+00:00\n",
      "geektest-t1\n",
      "2022-06-23 15:58:25+00:00\n",
      "geektest-t2\n",
      "2022-06-23 16:02:04+00:00\n",
      "luit\n",
      "2022-05-06 00:23:58+00:00\n",
      "luit-angular-app-master\n",
      "2022-05-06 20:53:35+00:00\n",
      "www.geekanese.com\n",
      "2020-10-16 15:32:18+00:00\n"
     ]
    }
   ],
   "source": [
    "for bucket in s3_resource.list_buckets()[\"Buckets\"]:\n",
    "    print(bucket[\"Name\"])\n",
    "    print(bucket[\"CreationDate\"])"
   ]
  },
  {
   "cell_type": "code",
   "execution_count": null,
   "id": "601c9c10-939d-4b71-ad0d-fd3c2ba26e47",
   "metadata": {},
   "outputs": [],
   "source": []
  }
 ],
 "metadata": {
  "kernelspec": {
   "display_name": "Python 3 (ipykernel)",
   "language": "python",
   "name": "python3"
  },
  "language_info": {
   "codemirror_mode": {
    "name": "ipython",
    "version": 3
   },
   "file_extension": ".py",
   "mimetype": "text/x-python",
   "name": "python",
   "nbconvert_exporter": "python",
   "pygments_lexer": "ipython3",
   "version": "3.7.10"
  }
 },
 "nbformat": 4,
 "nbformat_minor": 5
}
