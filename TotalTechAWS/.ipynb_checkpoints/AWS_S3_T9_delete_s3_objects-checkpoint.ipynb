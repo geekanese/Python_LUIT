{
 "cells": [
  {
   "cell_type": "code",
   "execution_count": null,
   "id": "ecdea58d-7422-4841-b647-23e5c9fc518f",
   "metadata": {},
   "outputs": [],
   "source": [
    "# Tutorial 9"
   ]
  },
  {
   "cell_type": "code",
   "execution_count": null,
   "id": "2a561a14-5cd1-40bd-8eaf-1a33629a1a3a",
   "metadata": {},
   "outputs": [],
   "source": [
    "#How to delete objects from S3"
   ]
  },
  {
   "cell_type": "code",
   "execution_count": 2,
   "id": "5aebff20-4e32-4861-8423-cf52b6a02e53",
   "metadata": {},
   "outputs": [],
   "source": [
    "import boto3"
   ]
  },
  {
   "cell_type": "code",
   "execution_count": 3,
   "id": "6473dff0-a64c-4220-bd01-a8a83de28f5f",
   "metadata": {},
   "outputs": [],
   "source": [
    "s3_resource=boto3.client(\"s3\")"
   ]
  },
  {
   "cell_type": "code",
   "execution_count": null,
   "id": "70596d18-e749-42de-8317-ca0d28e4bd66",
   "metadata": {},
   "outputs": [],
   "source": []
  }
 ],
 "metadata": {
  "kernelspec": {
   "display_name": "Python 3 (ipykernel)",
   "language": "python",
   "name": "python3"
  },
  "language_info": {
   "codemirror_mode": {
    "name": "ipython",
    "version": 3
   },
   "file_extension": ".py",
   "mimetype": "text/x-python",
   "name": "python",
   "nbconvert_exporter": "python",
   "pygments_lexer": "ipython3",
   "version": "3.7.10"
  }
 },
 "nbformat": 4,
 "nbformat_minor": 5
}
