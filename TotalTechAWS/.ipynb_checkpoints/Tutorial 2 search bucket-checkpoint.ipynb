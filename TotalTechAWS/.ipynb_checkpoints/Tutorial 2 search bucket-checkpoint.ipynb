{
 "cells": [
  {
   "cell_type": "code",
   "execution_count": 20,
   "id": "4ea488e5-4f44-4f3c-8eef-6770e4210331",
   "metadata": {},
   "outputs": [],
   "source": [
    "import boto3"
   ]
  },
  {
   "cell_type": "code",
   "execution_count": 21,
   "id": "b6bff39f-a563-49e7-9d6e-2bcca7353f35",
   "metadata": {},
   "outputs": [],
   "source": [
    "resource=boto3.resource"
   ]
  },
  {
   "cell_type": "code",
   "execution_count": 22,
   "id": "fc8214e1-ee9e-408a-9d8a-1affbe65af20",
   "metadata": {},
   "outputs": [],
   "source": [
    "resource=boto3.resource(\"s3\")"
   ]
  },
  {
   "cell_type": "code",
   "execution_count": 23,
   "id": "ca320e87-e7ef-46ba-9167-f1364a589fe4",
   "metadata": {},
   "outputs": [],
   "source": [
    "bucket_list=list(resource.buckets.all())"
   ]
  },
  {
   "cell_type": "code",
   "execution_count": 24,
   "id": "2b3af83d-59a2-40dc-9714-11ff7e08c72e",
   "metadata": {},
   "outputs": [
    {
     "data": {
      "text/plain": [
       "13"
      ]
     },
     "execution_count": 24,
     "metadata": {},
     "output_type": "execute_result"
    }
   ],
   "source": [
    "len(bucket_list)"
   ]
  },
  {
   "cell_type": "code",
   "execution_count": 25,
   "id": "5da8970a-0b63-4beb-b3a6-2f3861cb703a",
   "metadata": {},
   "outputs": [
    {
     "name": "stdout",
     "output_type": "stream",
     "text": [
      "angular-app-5-5\n",
      "angular-app-source\n",
      "angular-app22-deploy\n",
      "chrisutley.pro\n",
      "codepipeline-us-east-1-966797841772\n",
      "ehlo-it.com\n",
      "geekanese\n",
      "geekanese.com\n",
      "geektest-t1\n",
      "geektest-t2\n",
      "luit\n",
      "luit-angular-app-master\n",
      "www.geekanese.com\n"
     ]
    }
   ],
   "source": [
    "for bucket in resource.buckets.all():\n",
    "              print(bucket.name)"
   ]
  },
  {
   "cell_type": "code",
   "execution_count": null,
   "id": "608dabcd-ddad-415a-9ba8-39d261fa2463",
   "metadata": {},
   "outputs": [],
   "source": []
  }
 ],
 "metadata": {
  "kernelspec": {
   "display_name": "Python 3 (ipykernel)",
   "language": "python",
   "name": "python3"
  },
  "language_info": {
   "codemirror_mode": {
    "name": "ipython",
    "version": 3
   },
   "file_extension": ".py",
   "mimetype": "text/x-python",
   "name": "python",
   "nbconvert_exporter": "python",
   "pygments_lexer": "ipython3",
   "version": "3.7.10"
  }
 },
 "nbformat": 4,
 "nbformat_minor": 5
}
