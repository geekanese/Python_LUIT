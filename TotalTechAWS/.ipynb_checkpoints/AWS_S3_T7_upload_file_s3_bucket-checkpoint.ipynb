{
 "cells": [
  {
   "cell_type": "code",
   "execution_count": 12,
   "id": "db23a792-55d1-4908-a0fd-17a780656343",
   "metadata": {},
   "outputs": [],
   "source": [
    "# tutorial 7"
   ]
  },
  {
   "cell_type": "code",
   "execution_count": 13,
   "id": "ff45baac-ba20-4e7f-af1e-ea094bd7ad5b",
   "metadata": {},
   "outputs": [],
   "source": [
    "# Upload file"
   ]
  },
  {
   "cell_type": "code",
   "execution_count": 14,
   "id": "e8ef5dc6-c534-4e23-a4a4-7e8acb2c9b0c",
   "metadata": {},
   "outputs": [],
   "source": [
    "import boto3"
   ]
  },
  {
   "cell_type": "code",
   "execution_count": 15,
   "id": "bab48851-7d85-49c8-a15c-84527b175f7f",
   "metadata": {},
   "outputs": [],
   "source": [
    "# how to upload single file\n",
    "s3_resource=boto3.client(\"s3\")\n",
    "s3_resource.upload_file(\n",
    "    Filename=\"sausage.jpeg\",\n",
    "    Bucket=\"geektest-t1\",\n",
    "    Key=\"uploadtest.jpeg\")"
   ]
  },
  {
   "cell_type": "code",
   "execution_count": 16,
   "id": "3b569aa9-3d39-4aa6-be4b-6c5b42647981",
   "metadata": {},
   "outputs": [],
   "source": [
    "# how to upload multiple files\n",
    "import os\n",
    "import glob"
   ]
  },
  {
   "cell_type": "code",
   "execution_count": 17,
   "id": "495ab8e0-ca6f-491e-936b-6670d2828c55",
   "metadata": {},
   "outputs": [],
   "source": [
    "cwd=os.getcwd()"
   ]
  },
  {
   "cell_type": "code",
   "execution_count": 18,
   "id": "6c476597-5849-478b-936a-957c3705a6e2",
   "metadata": {},
   "outputs": [],
   "source": [
    "cwd=cwd+\"/upload/\""
   ]
  },
  {
   "cell_type": "code",
   "execution_count": 21,
   "id": "d5b8a75b-d547-408a-b9a0-c363287b801d",
   "metadata": {},
   "outputs": [],
   "source": [
    "files=glob.glob(cwd+\"*.jpeg\")"
   ]
  },
  {
   "cell_type": "code",
   "execution_count": 22,
   "id": "b9da3087-943e-4c33-9e11-4227e1135179",
   "metadata": {},
   "outputs": [
    {
     "data": {
      "text/plain": [
       "['/home/ec2-user/environment/Python_Code/TotalTechAWS/upload/sausage1.jpeg',\n",
       " '/home/ec2-user/environment/Python_Code/TotalTechAWS/upload/sausage2.jpeg',\n",
       " '/home/ec2-user/environment/Python_Code/TotalTechAWS/upload/sausage3.jpeg',\n",
       " '/home/ec2-user/environment/Python_Code/TotalTechAWS/upload/sausage4.jpeg']"
      ]
     },
     "execution_count": 22,
     "metadata": {},
     "output_type": "execute_result"
    }
   ],
   "source": [
    "files"
   ]
  },
  {
   "cell_type": "code",
   "execution_count": 23,
   "id": "ad57b2c7-4b75-4caa-bd12-e3de3b823b04",
   "metadata": {},
   "outputs": [],
   "source": [
    "for file in files:\n",
    "    s3_resource=boto3.client(\"s3\")\n",
    "    s3_resource.upload_file(\n",
    "    Filename=file,\n",
    "    Bucket=\"geektest-t1\",\n",
    "    Key=file.split(\"/\")[-1])\n",
    "    "
   ]
  },
  {
   "cell_type": "code",
   "execution_count": null,
   "id": "82ccafa6-1cbf-4298-9fdb-805db973512e",
   "metadata": {},
   "outputs": [],
   "source": [
    "#files[0].split(\"/\""
   ]
  }
 ],
 "metadata": {
  "kernelspec": {
   "display_name": "Python 3 (ipykernel)",
   "language": "python",
   "name": "python3"
  },
  "language_info": {
   "codemirror_mode": {
    "name": "ipython",
    "version": 3
   },
   "file_extension": ".py",
   "mimetype": "text/x-python",
   "name": "python",
   "nbconvert_exporter": "python",
   "pygments_lexer": "ipython3",
   "version": "3.7.10"
  }
 },
 "nbformat": 4,
 "nbformat_minor": 5
}
