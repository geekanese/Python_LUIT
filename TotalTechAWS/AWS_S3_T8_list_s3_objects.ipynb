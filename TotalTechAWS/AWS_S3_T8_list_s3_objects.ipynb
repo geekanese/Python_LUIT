{
 "cells": [
  {
   "cell_type": "code",
   "execution_count": null,
   "id": "28a4b5aa-ba20-449f-9688-a3b9280789d1",
   "metadata": {},
   "outputs": [],
   "source": [
    "# tutorial 8"
   ]
  },
  {
   "cell_type": "code",
   "execution_count": null,
   "id": "da631156-5d87-4033-a8a1-717201216c40",
   "metadata": {},
   "outputs": [],
   "source": [
    "# list objects from S3 bucket"
   ]
  },
  {
   "cell_type": "code",
   "execution_count": 1,
   "id": "e9b861e9-7ed4-4448-afbc-a9babb4d6e9f",
   "metadata": {},
   "outputs": [],
   "source": [
    "import boto3"
   ]
  },
  {
   "cell_type": "code",
   "execution_count": null,
   "id": "1fd69675-928f-461f-8a0a-7ca72185b4ab",
   "metadata": {},
   "outputs": [],
   "source": [
    "# s3_resource=boto3.client(\"s3\")??"
   ]
  },
  {
   "cell_type": "code",
   "execution_count": 2,
   "id": "ff5f926d-e9ee-4e78-a737-3fb0f162922e",
   "metadata": {},
   "outputs": [],
   "source": [
    "s3_resource=boto3.client(\"s3\")"
   ]
  },
  {
   "cell_type": "code",
   "execution_count": 7,
   "id": "1fa71033-778e-4580-b34f-79fbc552418f",
   "metadata": {},
   "outputs": [],
   "source": [
    "#objects=s3_resource. ##tab after dot to get functions of s3_resource.##\n",
    "#s3_resource.list_objects(Bucket=\"geektest-t1\")[\"Contents\"]"
   ]
  },
  {
   "cell_type": "code",
   "execution_count": 9,
   "id": "7990fa31-181e-41fd-b8fd-60b740a6c3da",
   "metadata": {},
   "outputs": [],
   "source": [
    "objects=s3_resource.list_objects(Bucket=\"geektest-t1\")[\"Contents\"]"
   ]
  },
  {
   "cell_type": "code",
   "execution_count": 15,
   "id": "e0b43fc1-860f-4b4b-9bc4-7bc809aeee3b",
   "metadata": {},
   "outputs": [
    {
     "data": {
      "text/plain": [
       "5"
      ]
     },
     "execution_count": 15,
     "metadata": {},
     "output_type": "execute_result"
    }
   ],
   "source": [
    "len(objects)"
   ]
  },
  {
   "cell_type": "code",
   "execution_count": 16,
   "id": "e01a4eca-a15b-4804-ae7e-533d49fb9667",
   "metadata": {},
   "outputs": [
    {
     "name": "stdout",
     "output_type": "stream",
     "text": [
      "objects exists\n"
     ]
    }
   ],
   "source": [
    "if len(objects)>0:\n",
    "    print(\"objects exists\")"
   ]
  },
  {
   "cell_type": "code",
   "execution_count": 17,
   "id": "567079d9-feb7-4f4f-af68-dc58ce2fd994",
   "metadata": {},
   "outputs": [
    {
     "name": "stdout",
     "output_type": "stream",
     "text": [
      "{'Key': 'sausage1.jpeg', 'LastModified': datetime.datetime(2022, 6, 23, 18, 1, 9, tzinfo=tzlocal()), 'ETag': '\"d074f891e3804b65675e20ebdcf1e924\"', 'Size': 73150, 'StorageClass': 'STANDARD', 'Owner': {'ID': '076c46c154b04c1d441d983106205cf31e45785660be843128998b8ecbc0f69d'}}\n",
      "{'Key': 'sausage2.jpeg', 'LastModified': datetime.datetime(2022, 6, 23, 18, 1, 9, tzinfo=tzlocal()), 'ETag': '\"d074f891e3804b65675e20ebdcf1e924\"', 'Size': 73150, 'StorageClass': 'STANDARD', 'Owner': {'ID': '076c46c154b04c1d441d983106205cf31e45785660be843128998b8ecbc0f69d'}}\n",
      "{'Key': 'sausage3.jpeg', 'LastModified': datetime.datetime(2022, 6, 23, 18, 1, 10, tzinfo=tzlocal()), 'ETag': '\"d074f891e3804b65675e20ebdcf1e924\"', 'Size': 73150, 'StorageClass': 'STANDARD', 'Owner': {'ID': '076c46c154b04c1d441d983106205cf31e45785660be843128998b8ecbc0f69d'}}\n",
      "{'Key': 'sausage4.jpeg', 'LastModified': datetime.datetime(2022, 6, 23, 18, 1, 10, tzinfo=tzlocal()), 'ETag': '\"d074f891e3804b65675e20ebdcf1e924\"', 'Size': 73150, 'StorageClass': 'STANDARD', 'Owner': {'ID': '076c46c154b04c1d441d983106205cf31e45785660be843128998b8ecbc0f69d'}}\n",
      "{'Key': 'uploadtest.jpeg', 'LastModified': datetime.datetime(2022, 6, 23, 17, 59, 18, tzinfo=tzlocal()), 'ETag': '\"d074f891e3804b65675e20ebdcf1e924\"', 'Size': 73150, 'StorageClass': 'STANDARD', 'Owner': {'ID': '076c46c154b04c1d441d983106205cf31e45785660be843128998b8ecbc0f69d'}}\n"
     ]
    }
   ],
   "source": [
    "for object in objects:\n",
    "    print(object)"
   ]
  },
  {
   "cell_type": "code",
   "execution_count": 18,
   "id": "8c622f56-e537-4d8d-a74f-738706df60d1",
   "metadata": {},
   "outputs": [
    {
     "name": "stdout",
     "output_type": "stream",
     "text": [
      "sausage1.jpeg\n",
      "sausage2.jpeg\n",
      "sausage3.jpeg\n",
      "sausage4.jpeg\n",
      "uploadtest.jpeg\n"
     ]
    }
   ],
   "source": [
    "for object in objects:\n",
    "    print(object[\"Key\"])"
   ]
  },
  {
   "cell_type": "code",
   "execution_count": null,
   "id": "d1026183-5dd4-4214-9a5d-8ee794425480",
   "metadata": {},
   "outputs": [],
   "source": []
  }
 ],
 "metadata": {
  "kernelspec": {
   "display_name": "Python 3 (ipykernel)",
   "language": "python",
   "name": "python3"
  },
  "language_info": {
   "codemirror_mode": {
    "name": "ipython",
    "version": 3
   },
   "file_extension": ".py",
   "mimetype": "text/x-python",
   "name": "python",
   "nbconvert_exporter": "python",
   "pygments_lexer": "ipython3",
   "version": "3.7.10"
  }
 },
 "nbformat": 4,
 "nbformat_minor": 5
}
