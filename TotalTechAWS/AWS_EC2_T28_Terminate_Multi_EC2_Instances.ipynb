{
 "cells": [
  {
   "cell_type": "code",
   "execution_count": null,
   "id": "3491d1fc-1afe-421a-9900-d32c4fe3e9b9",
   "metadata": {
    "tags": []
   },
   "outputs": [],
   "source": [
    "# How to terminate multiple EC2 instances"
   ]
  },
  {
   "cell_type": "code",
   "execution_count": null,
   "id": "d613e52a-36b5-4a28-bc79-324c3625de22",
   "metadata": {},
   "outputs": [],
   "source": [
    "# Project author - Christopher Utley"
   ]
  },
  {
   "cell_type": "code",
   "execution_count": null,
   "id": "7276b67a-5bdc-4260-a848-5b6b05a741c0",
   "metadata": {},
   "outputs": [],
   "source": [
    "# Import boto3 library"
   ]
  },
  {
   "cell_type": "code",
   "execution_count": 1,
   "id": "e0fbdcc5-db01-485e-a620-8590c81c7159",
   "metadata": {
    "tags": []
   },
   "outputs": [],
   "source": [
    "import boto3"
   ]
  },
  {
   "cell_type": "code",
   "execution_count": 7,
   "id": "e2da29c4-0a49-40ae-8f12-66666c985b29",
   "metadata": {},
   "outputs": [],
   "source": [
    "#create an EC2 resource\n",
    "ec2_resource=boto3.resource(\"ec2\")"
   ]
  },
  {
   "cell_type": "code",
   "execution_count": null,
   "id": "5996fef0-586a-4540-b133-39218bd2a538",
   "metadata": {
    "tags": []
   },
   "outputs": [],
   "source": [
    "# Get instance requirements >> output to get args\n",
    "ec2_resource.create_instances??"
   ]
  }
 ],
 "metadata": {
  "kernelspec": {
   "display_name": "Python 3 (ipykernel)",
   "language": "python",
   "name": "python3"
  },
  "language_info": {
   "codemirror_mode": {
    "name": "ipython",
    "version": 3
   },
   "file_extension": ".py",
   "mimetype": "text/x-python",
   "name": "python",
   "nbconvert_exporter": "python",
   "pygments_lexer": "ipython3",
   "version": "3.7.10"
  }
 },
 "nbformat": 4,
 "nbformat_minor": 5
}
