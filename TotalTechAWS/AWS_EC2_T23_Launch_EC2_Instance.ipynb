{
 "cells": [
  {
   "cell_type": "code",
   "execution_count": null,
   "id": "9f3e1b3d-7d4b-4868-ae7a-d61c15586226",
   "metadata": {
    "tags": []
   },
   "outputs": [],
   "source": [
    "# How to create an EC2 instance"
   ]
  },
  {
   "cell_type": "code",
   "execution_count": null,
   "id": "cb9a77bd-33bc-4143-8ffa-d60f88b533e5",
   "metadata": {},
   "outputs": [],
   "source": [
    "# Project author - Christopher Utley"
   ]
  },
  {
   "cell_type": "code",
   "execution_count": null,
   "id": "3ec33935-7875-4d14-baef-02b50d66fddc",
   "metadata": {},
   "outputs": [],
   "source": [
    "# Import boto3 library"
   ]
  },
  {
   "cell_type": "code",
   "execution_count": 1,
   "id": "05f30928-f4fc-4ac6-8ae7-13f76958cc25",
   "metadata": {
    "tags": []
   },
   "outputs": [],
   "source": [
    "import boto3"
   ]
  },
  {
   "cell_type": "code",
   "execution_count": 7,
   "id": "d0581f84-ba11-44fe-9c7a-0f4918120bfa",
   "metadata": {},
   "outputs": [],
   "source": [
    "#create an EC2 resource\n",
    "ec2_resource=boto3.resource(\"ec2\")"
   ]
  },
  {
   "cell_type": "code",
   "execution_count": null,
   "id": "a34d3619-b9b9-4dc7-a9f2-dc5c3098c9e1",
   "metadata": {
    "tags": []
   },
   "outputs": [],
   "source": [
    "# Get instance requirements >> output to get args\n",
    "ec2_resource.create_instances??"
   ]
  },
  {
   "cell_type": "code",
   "execution_count": null,
   "id": "ce9b1f7f-6e4c-4cf2-b7c9-9986a2ccf368",
   "metadata": {},
   "outputs": [],
   "source": [
    "#ec2_resource.create_instances(ImageId='string',\n",
    "#      InstanceType='Instance_Type i.e. t2.micro | t2.small | t2.medium | t2.large'\n",
    "#    MaxCount=1,\n",
    "#        MinCount=1)"
   ]
  },
  {
   "cell_type": "code",
   "execution_count": null,
   "id": "ff2bffe2-bcac-4820-a1e3-b6770ce03df9",
   "metadata": {},
   "outputs": [],
   "source": [
    "ec2_resource.create_instances(ImageId='ami-0cff7528ff583bf9a',\n",
    "      InstanceType='t2.micro'\n",
    "    MaxCount=1,\n",
    "        MinCount=1)"
   ]
  }
 ],
 "metadata": {
  "kernelspec": {
   "display_name": "Python 3 (ipykernel)",
   "language": "python",
   "name": "python3"
  },
  "language_info": {
   "codemirror_mode": {
    "name": "ipython",
    "version": 3
   },
   "file_extension": ".py",
   "mimetype": "text/x-python",
   "name": "python",
   "nbconvert_exporter": "python",
   "pygments_lexer": "ipython3",
   "version": "3.7.10"
  }
 },
 "nbformat": 4,
 "nbformat_minor": 5
}
