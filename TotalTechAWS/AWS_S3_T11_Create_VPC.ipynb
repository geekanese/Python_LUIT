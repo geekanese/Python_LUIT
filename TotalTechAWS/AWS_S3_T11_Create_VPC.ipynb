{
 "cells": [
  {
   "cell_type": "code",
   "execution_count": 2,
   "id": "de481834-74ea-41e1-aeb6-e11fd5707f7e",
   "metadata": {},
   "outputs": [],
   "source": [
    "import boto3"
   ]
  },
  {
   "cell_type": "code",
   "execution_count": 7,
   "id": "8a497113-44fa-4ca3-9e74-8547116df59b",
   "metadata": {},
   "outputs": [],
   "source": [
    "client=boto3.client(\"ec2\")"
   ]
  },
  {
   "cell_type": "code",
   "execution_count": 9,
   "id": "b6f89d8c-3e55-4cd9-a411-c13d90b65c8e",
   "metadata": {},
   "outputs": [
    {
     "data": {
      "text/plain": [
       "{'Vpc': {'CidrBlock': '10.0.0.0/16',\n",
       "  'DhcpOptionsId': 'dopt-4c28e325',\n",
       "  'State': 'pending',\n",
       "  'VpcId': 'vpc-0ee7a89f1dfb6a1a0',\n",
       "  'OwnerId': '050624532426',\n",
       "  'InstanceTenancy': 'default',\n",
       "  'Ipv6CidrBlockAssociationSet': [],\n",
       "  'CidrBlockAssociationSet': [{'AssociationId': 'vpc-cidr-assoc-0ea2f2f548450ef49',\n",
       "    'CidrBlock': '10.0.0.0/16',\n",
       "    'CidrBlockState': {'State': 'associated'}}],\n",
       "  'IsDefault': False},\n",
       " 'ResponseMetadata': {'RequestId': 'ebf9f1ec-8165-4beb-901e-5c7f9bb43b9b',\n",
       "  'HTTPStatusCode': 200,\n",
       "  'HTTPHeaders': {'x-amzn-requestid': 'ebf9f1ec-8165-4beb-901e-5c7f9bb43b9b',\n",
       "   'cache-control': 'no-cache, no-store',\n",
       "   'strict-transport-security': 'max-age=31536000; includeSubDomains',\n",
       "   'content-type': 'text/xml;charset=UTF-8',\n",
       "   'content-length': '905',\n",
       "   'date': 'Tue, 28 Jun 2022 17:00:44 GMT',\n",
       "   'server': 'AmazonEC2'},\n",
       "  'RetryAttempts': 0}}"
      ]
     },
     "execution_count": 9,
     "metadata": {},
     "output_type": "execute_result"
    }
   ],
   "source": [
    "client.create_vpc(CidrBlock='10.0.0.0/16')"
   ]
  },
  {
   "cell_type": "code",
   "execution_count": null,
   "id": "3ea8e37b-47b9-426d-9bc2-094d8ea18392",
   "metadata": {},
   "outputs": [],
   "source": []
  }
 ],
 "metadata": {
  "kernelspec": {
   "display_name": "Python 3 (ipykernel)",
   "language": "python",
   "name": "python3"
  },
  "language_info": {
   "codemirror_mode": {
    "name": "ipython",
    "version": 3
   },
   "file_extension": ".py",
   "mimetype": "text/x-python",
   "name": "python",
   "nbconvert_exporter": "python",
   "pygments_lexer": "ipython3",
   "version": "3.7.10"
  }
 },
 "nbformat": 4,
 "nbformat_minor": 5
}
