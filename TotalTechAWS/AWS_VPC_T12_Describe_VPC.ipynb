{
 "cells": [
  {
   "cell_type": "code",
   "execution_count": null,
   "id": "dee17a2e-1ac9-4278-9f5e-3eaa2b4239a1",
   "metadata": {},
   "outputs": [],
   "source": [
    "#Tutorial 12, How to describe VPC using Python"
   ]
  },
  {
   "cell_type": "code",
   "execution_count": 18,
   "id": "516e08b9-eabe-43c3-9528-b4c6407d10da",
   "metadata": {},
   "outputs": [],
   "source": [
    "import boto3"
   ]
  },
  {
   "cell_type": "code",
   "execution_count": 19,
   "id": "c9044d29-047f-4303-b640-58f443f407e5",
   "metadata": {},
   "outputs": [],
   "source": [
    "client=boto3.client(\"ec2\")"
   ]
  },
  {
   "cell_type": "code",
   "execution_count": 20,
   "id": "23bf4d08-d966-4612-a310-b9775b379994",
   "metadata": {},
   "outputs": [],
   "source": [
    "# how to describe all VPC available in your account"
   ]
  },
  {
   "cell_type": "code",
   "execution_count": 21,
   "id": "d960914e-2ffc-47d9-ae71-1a71f71498d3",
   "metadata": {},
   "outputs": [
    {
     "data": {
      "text/plain": [
       "{'Vpcs': [{'CidrBlock': '172.31.0.0/16',\n",
       "   'DhcpOptionsId': 'dopt-4c28e325',\n",
       "   'State': 'available',\n",
       "   'VpcId': 'vpc-4ec50d27',\n",
       "   'OwnerId': '050624532426',\n",
       "   'InstanceTenancy': 'default',\n",
       "   'CidrBlockAssociationSet': [{'AssociationId': 'vpc-cidr-assoc-ae7c8dc7',\n",
       "     'CidrBlock': '172.31.0.0/16',\n",
       "     'CidrBlockState': {'State': 'associated'}}],\n",
       "   'IsDefault': True},\n",
       "  {'CidrBlock': '10.0.0.0/16',\n",
       "   'DhcpOptionsId': 'dopt-4c28e325',\n",
       "   'State': 'available',\n",
       "   'VpcId': 'vpc-0ee7a89f1dfb6a1a0',\n",
       "   'OwnerId': '050624532426',\n",
       "   'InstanceTenancy': 'default',\n",
       "   'CidrBlockAssociationSet': [{'AssociationId': 'vpc-cidr-assoc-0ea2f2f548450ef49',\n",
       "     'CidrBlock': '10.0.0.0/16',\n",
       "     'CidrBlockState': {'State': 'associated'}}],\n",
       "   'IsDefault': False}],\n",
       " 'ResponseMetadata': {'RequestId': 'ff23ff74-b9b2-4a12-96cb-8ab4a97b40d2',\n",
       "  'HTTPStatusCode': 200,\n",
       "  'HTTPHeaders': {'x-amzn-requestid': 'ff23ff74-b9b2-4a12-96cb-8ab4a97b40d2',\n",
       "   'cache-control': 'no-cache, no-store',\n",
       "   'strict-transport-security': 'max-age=31536000; includeSubDomains',\n",
       "   'content-type': 'text/xml;charset=UTF-8',\n",
       "   'content-length': '1708',\n",
       "   'date': 'Tue, 28 Jun 2022 20:39:02 GMT',\n",
       "   'server': 'AmazonEC2'},\n",
       "  'RetryAttempts': 0}}"
      ]
     },
     "execution_count": 21,
     "metadata": {},
     "output_type": "execute_result"
    }
   ],
   "source": [
    "client.describe_vpcs()"
   ]
  },
  {
   "cell_type": "code",
   "execution_count": 22,
   "id": "237f6a17-2c16-4cdd-a435-79739458e256",
   "metadata": {},
   "outputs": [],
   "source": [
    "x=client.describe_vpcs()"
   ]
  },
  {
   "cell_type": "code",
   "execution_count": 23,
   "id": "8b7c1cb0-e293-4c5c-b414-e3808532528a",
   "metadata": {},
   "outputs": [],
   "source": [
    "no_of_vpcs=x[\"Vpcs\"]"
   ]
  },
  {
   "cell_type": "code",
   "execution_count": 24,
   "id": "3b50e87b-6027-469b-a635-61fd6d462ac7",
   "metadata": {},
   "outputs": [
    {
     "data": {
      "text/plain": [
       "2"
      ]
     },
     "execution_count": 24,
     "metadata": {},
     "output_type": "execute_result"
    }
   ],
   "source": [
    "len(no_of_vpcs)"
   ]
  },
  {
   "cell_type": "code",
   "execution_count": 27,
   "id": "22e80cd7-21f2-4f45-83a5-81604d26fca9",
   "metadata": {},
   "outputs": [
    {
     "name": "stdout",
     "output_type": "stream",
     "text": [
      "vpc-4ec50d27\n",
      "vpc-0ee7a89f1dfb6a1a0\n"
     ]
    }
   ],
   "source": [
    "for vpc in no_of_vpcs:\n",
    "    print(vpc[\"VpcId\"])"
   ]
  },
  {
   "cell_type": "code",
   "execution_count": null,
   "id": "4402f7eb-2c03-4ebf-904e-c50f11c84ab4",
   "metadata": {},
   "outputs": [],
   "source": []
  }
 ],
 "metadata": {
  "kernelspec": {
   "display_name": "Python 3 (ipykernel)",
   "language": "python",
   "name": "python3"
  },
  "language_info": {
   "codemirror_mode": {
    "name": "ipython",
    "version": 3
   },
   "file_extension": ".py",
   "mimetype": "text/x-python",
   "name": "python",
   "nbconvert_exporter": "python",
   "pygments_lexer": "ipython3",
   "version": "3.7.10"
  }
 },
 "nbformat": 4,
 "nbformat_minor": 5
}
